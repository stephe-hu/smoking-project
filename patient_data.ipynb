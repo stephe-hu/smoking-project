{
 "cells": [
  {
   "cell_type": "markdown",
   "metadata": {},
   "source": [
    "\n",
    "# Loading packages"
   ]
  },
  {
   "cell_type": "code",
   "execution_count": 1,
   "metadata": {},
   "outputs": [],
   "source": [
    "import pandas as pd\n",
    "from sqlalchemy import create_engine\n",
    "import sqlite3\n",
    "from faker import Faker"
   ]
  },
  {
   "cell_type": "markdown",
   "metadata": {},
   "source": [
    "# Create local DB and fake data"
   ]
  },
  {
   "cell_type": "code",
   "execution_count": 2,
   "metadata": {},
   "outputs": [],
   "source": [
    "# Create local SQLite DB\n",
    "conn = sqlite3.connect('patientdata.db')\n",
    "c = conn.cursor()"
   ]
  },
  {
   "cell_type": "code",
   "execution_count": 3,
   "metadata": {},
   "outputs": [
    {
     "data": {
      "text/plain": [
       "<sqlite3.Cursor at 0x1388346c340>"
      ]
     },
     "execution_count": 3,
     "metadata": {},
     "output_type": "execute_result"
    }
   ],
   "source": [
    "# Create new table\n",
    "c.execute(\"\"\"\n",
    "    CREATE TABLE patient_data\n",
    "    (\n",
    "        encounter text,\n",
    "        encounter_arrival_date text,\n",
    "        mrn text,\n",
    "        patient_name text,\n",
    "        location text,\n",
    "        tobacco_use text,\n",
    "        smokerless_tobacco_use text,\n",
    "        performed_date text,\n",
    "        offered text,\n",
    "        accepted text\n",
    "    );\n",
    "\"\"\")\n"
   ]
  },
  {
   "cell_type": "code",
   "execution_count": 4,
   "metadata": {},
   "outputs": [],
   "source": [
    "# Create a Faker instance\n",
    "fake = Faker()\n",
    "\n",
    "# Generate and insert fake data into the table\n",
    "for _ in range(5000):  \n",
    "    fake_encounter =  fake.random_int(min=1, max=99999999)\n",
    "    fake_arrival_date = fake.date_this_decade()  \n",
    "    fake_mrn = fake.random_int(min=100000, max=999999)  \n",
    "    fake_patient_name = fake.name()  \n",
    "    fake_location = fake.city()  \n",
    "    fake_tobacco_use = fake.random_element(elements=['Smoker, current status unknown', 'Former smoker, quit more than 30 days ago', '10 or more cigarettes (1/2 pack or more)/day in last 30 days', 'Not obtained due to cognitive impairment', '4 or less cigarettes(less than 1/4 pack)/day in last 30 days', '5-9 cigarettes (between 1/4 to 1/2 pack)/day in last 30 days', 'Refused tobacco status screen', 'Never (less than 100 in lifetime)'])\n",
    "    fake_smokerless_tobacco_use = fake.random_element(elements=['Never', 'Former smoker, quit more than 30 days ago', 'Not obtained due to cognitive impairment', 'Refused tobacco status screen'])\n",
    "    fake_performed_date = fake.date_this_decade()\n",
    "    fake_offered = fake.random_element(elements=['Yes', 'No', None]) \n",
    "    fake_accepted = fake.random_element(elements=['Yes', 'No', None])  \n",
    "\n",
    "    # Insert the generated data into the table\n",
    "    c.execute('''\n",
    "        INSERT INTO patient_data\n",
    "        VALUES (?, ?, ?, ?, ?, ?, ?, ?, ?, ?)\n",
    "    ''', (fake_encounter, fake_arrival_date, fake_mrn, fake_patient_name, fake_location, fake_tobacco_use, fake_smokerless_tobacco_use, fake_performed_date, fake_offered, fake_accepted))\n",
    "\n",
    "# Commit the changes and close the database connection\n",
    "conn.commit()\n",
    "conn.close()\n"
   ]
  },
  {
   "cell_type": "markdown",
   "metadata": {},
   "source": [
    "# Export local DB as CSV"
   ]
  },
  {
   "cell_type": "code",
   "execution_count": null,
   "metadata": {},
   "outputs": [],
   "source": [
    "# Connect to the SQLite database\n",
    "conn = sqlite3.connect('patientdata.db')\n",
    "\n",
    "# SQL query to retrieve data from the table\n",
    "query = \"SELECT * FROM patient_data\"\n",
    "df = pd.read_sql_query(query, conn)\n",
    "\n",
    "# Export the DataFrame to a CSV file\n",
    "df.to_csv('output.csv', index=False)\n",
    "\n",
    "# Close the database connection\n",
    "conn.close()\n"
   ]
  }
 ],
 "metadata": {
  "kernelspec": {
   "display_name": "Python 3",
   "language": "python",
   "name": "python3"
  },
  "language_info": {
   "codemirror_mode": {
    "name": "ipython",
    "version": 3
   },
   "file_extension": ".py",
   "mimetype": "text/x-python",
   "name": "python",
   "nbconvert_exporter": "python",
   "pygments_lexer": "ipython3",
   "version": "3.11.5"
  },
  "orig_nbformat": 4
 },
 "nbformat": 4,
 "nbformat_minor": 2
}
